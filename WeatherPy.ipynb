{
 "nbformat": 4,
 "nbformat_minor": 2,
 "metadata": {
  "language_info": {
   "name": "python",
   "codemirror_mode": {
    "name": "ipython",
    "version": 3
   },
   "version": "3.6.9"
  },
  "orig_nbformat": 2,
  "file_extension": ".py",
  "mimetype": "text/x-python",
  "name": "python",
  "npconvert_exporter": "python",
  "pygments_lexer": "ipython3",
  "version": 3
 },
 "cells": [
  {
   "cell_type": "code",
   "execution_count": 17,
   "metadata": {},
   "outputs": [],
   "source": [
    "# Import the dependencies\n",
    "import pandas as pd\n",
    "import matplotlib.pyplot as plt\n",
    "import numpy as np\n",
    "from citipy import citipy"
   ]
  },
  {
   "cell_type": "code",
   "execution_count": 18,
   "metadata": {},
   "outputs": [
    {
     "data": {
      "text/plain": "<zip at 0x25a3057c6c8>"
     },
     "execution_count": 18,
     "metadata": {},
     "output_type": "execute_result"
    }
   ],
   "source": [
    "# Create a set of random latitude and longitude combinations\n",
    "lats = np.random.uniform(low=-90.000, high=90.000, size=1500)\n",
    "lngs = np.random.uniform(low=-180.000, high=180.000, size=1500)\n",
    "lat_lngs = zip(lats, lngs)\n",
    "lat_lngs"
   ]
  },
  {
   "cell_type": "code",
   "execution_count": 19,
   "metadata": {},
   "outputs": [],
   "source": [
    "# Add the latitudes and longitutdes to a list.\n",
    "coordinates = list(lat_lngs)"
   ]
  },
  {
   "cell_type": "code",
   "execution_count": 20,
   "metadata": {},
   "outputs": [
    {
     "data": {
      "text/plain": "609"
     },
     "execution_count": 20,
     "metadata": {},
     "output_type": "execute_result"
    }
   ],
   "source": [
    "# Create a list for holding the cities.\n",
    "cities = []\n",
    "# Identify the nearest city for each latitude and longitude combination.\n",
    "for coordinate in coordinates:\n",
    "    city = citipy.nearest_city(coordinate[0], coordinate[1]).city_name\n",
    "    \n",
    "    # If the city is unique, then we will add it to the cities list.\n",
    "    if city not in cities:\n",
    "        cities.append(city)\n",
    "# Print the city count to confirm sufficient count.\n",
    "len(cities)"
   ]
  },
  {
   "cell_type": "code",
   "execution_count": 21,
   "metadata": {},
   "outputs": [],
   "source": [
    "# Import the requests library.\n",
    "import requests\n",
    "\n",
    "# Import the API key.\n",
    "from config import weather_api_key"
   ]
  },
  {
   "cell_type": "code",
   "execution_count": 22,
   "metadata": {},
   "outputs": [
    {
     "name": "stdout",
     "output_type": "stream",
     "text": "http://api.openweathermap.org/data/2.5/weather?units=Imperial&APPID=7038d42943454e36a2fcc1fa8413128e\n"
    }
   ],
   "source": [
    "# Starting URL for Weather Map API Call.\n",
    "url = \"http://api.openweathermap.org/data/2.5/weather?units=Imperial&APPID=\" + weather_api_key\n",
    "print(url)"
   ]
  },
  {
   "cell_type": "code",
   "execution_count": 23,
   "metadata": {},
   "outputs": [],
   "source": [
    "# Import the datetime module from the datetime library\n",
    "from datetime import datetime"
   ]
  },
  {
   "cell_type": "code",
   "execution_count": 24,
   "metadata": {},
   "outputs": [
    {
     "name": "stdout",
     "output_type": "stream",
     "text": "Beginning Data Retrieval     \n-----------------------------\n"
    }
   ],
   "source": [
    "# Create an empty list to hold the weather data.\n",
    "city_data = []\n",
    "# Print the beginning of the logging.\n",
    "print(\"Beginning Data Retrieval     \")\n",
    "print(\"-----------------------------\")\n",
    "\n",
    "# Create counters.\n",
    "record_count = 1\n",
    "set_count = 1"
   ]
  },
  {
   "cell_type": "code",
   "execution_count": 25,
   "metadata": {},
   "outputs": [],
   "source": [
    "# Loop through all the cities in our list.\n",
    "for i in range(len(cities)):\n",
    "\n",
    "    # Group cities in sets of 50 for logging purposes.\n",
    "    if (i % 50 == 0 and i >= 50):\n",
    "        set_count += 1\n",
    "        record_count = 1\n",
    "    # Create endpoint URL with each city.\n",
    "    city_url = url + \"&q=\" + \"i\""
   ]
  },
  {
   "cell_type": "code",
   "execution_count": 26,
   "metadata": {},
   "outputs": [
    {
     "name": "stdout",
     "output_type": "stream",
     "text": "f Set 15 | mgandu\nProcessing Record 34 of Set 15 | klaksvik\nProcessing Record 35 of Set 15 | rungata\nProcessing Record 36 of Set 15 | petropavlovsk-kamchatskiy\nProcessing Record 37 of Set 15 | portsmouth\nProcessing Record 38 of Set 15 | aykhal\nProcessing Record 39 of Set 15 | alofi\nProcessing Record 40 of Set 15 | rawannawi\nProcessing Record 41 of Set 15 | laguna\nProcessing Record 42 of Set 15 | iqaluit\nProcessing Record 43 of Set 15 | avarua\nProcessing Record 44 of Set 15 | victoria\nProcessing Record 45 of Set 15 | sinnamary\nProcessing Record 46 of Set 15 | rocha\nProcessing Record 47 of Set 15 | cabo san lucas\nProcessing Record 48 of Set 15 | college\nProcessing Record 49 of Set 15 | awbari\nProcessing Record 50 of Set 15 | port hedland\nProcessing Record 1 of Set 16 | hailar\nProcessing Record 2 of Set 16 | hilo\nProcessing Record 3 of Set 16 | fort nelson\nProcessing Record 4 of Set 16 | bambous virieux\nProcessing Record 5 of Set 16 | wake forest\nProcessing Record 6 of Set 16 | amahai\nProcessing Record 7 of Set 16 | sorland\nProcessing Record 8 of Set 16 | muros\nProcessing Record 9 of Set 16 | makung\nProcessing Record 10 of Set 16 | poum\nProcessing Record 11 of Set 16 | mrirt\nProcessing Record 12 of Set 16 | novoagansk\nProcessing Record 13 of Set 16 | belushya guba\nProcessing Record 14 of Set 16 | safford\nProcessing Record 15 of Set 16 | thuro\nProcessing Record 16 of Set 16 | ploufragan\nProcessing Record 17 of Set 16 | dikson\nProcessing Record 18 of Set 16 | camacha\nProcessing Record 19 of Set 16 | batsfjord\nProcessing Record 20 of Set 16 | cidreira\nProcessing Record 21 of Set 16 | ilulissat\nProcessing Record 22 of Set 16 | guerrero negro\nProcessing Record 23 of Set 16 | port hawkesbury\nProcessing Record 24 of Set 16 | chokurdakh\nProcessing Record 25 of Set 16 | baruun-urt\nProcessing Record 26 of Set 16 | pitimbu\nProcessing Record 27 of Set 16 | carnarvon\nProcessing Record 28 of Set 16 | hasaki\nProcessing Record 29 of Set 16 | flinders\nProcessing Record 30 of Set 16 | port hardy\nProcessing Record 31 of Set 16 | sitka\nProcessing Record 32 of Set 16 | brignoles\nProcessing Record 33 of Set 16 | saint-pierre\nProcessing Record 34 of Set 16 | san patricio\nProcessing Record 35 of Set 16 | ziro\nProcessing Record 36 of Set 16 | williams lake\nProcessing Record 37 of Set 16 | patabog\nProcessing Record 38 of Set 16 | ilhabela\nProcessing Record 39 of Set 16 | hovd\nProcessing Record 40 of Set 16 | freeport\nProcessing Record 41 of Set 16 | itirucu\nProcessing Record 42 of Set 16 | maumere\nProcessing Record 43 of Set 16 | beringovskiy\nProcessing Record 44 of Set 16 | la ronge\nProcessing Record 45 of Set 16 | nelson bay\nProcessing Record 46 of Set 16 | qinhuangdao\nProcessing Record 47 of Set 16 | visby\nProcessing Record 48 of Set 16 | mayo\nProcessing Record 49 of Set 16 | grand gaube\nProcessing Record 50 of Set 16 | mollendo\nProcessing Record 1 of Set 17 | dzaoudzi\nProcessing Record 2 of Set 17 | vestmannaeyjar\nProcessing Record 3 of Set 17 | ambatofinandrahana\nProcessing Record 4 of Set 17 | ormara\nProcessing Record 5 of Set 17 | souillac\nProcessing Record 6 of Set 17 | barra patuca\nProcessing Record 7 of Set 17 | dudinka\nProcessing Record 8 of Set 17 | castro\nProcessing Record 9 of Set 17 | fortuna\nProcessing Record 10 of Set 17 | ribeira grande\nProcessing Record 11 of Set 17 | muriwai beach\nProcessing Record 12 of Set 17 | nizwa\nProcessing Record 13 of Set 17 | toliary\nProcessing Record 14 of Set 17 | burnie\nProcessing Record 15 of Set 17 | saldanha\nProcessing Record 16 of Set 17 | mareeba\nProcessing Record 17 of Set 17 | weligama\nProcessing Record 18 of Set 17 | hope\nProcessing Record 19 of Set 17 | medford\nProcessing Record 20 of Set 17 | mao\nProcessing Record 21 of Set 17 | arlit\nProcessing Record 22 of Set 17 | omsukchan\nProcessing Record 23 of Set 17 | tiarei\nProcessing Record 24 of Set 17 | plaeng yao\nProcessing Record 25 of Set 17 | villamontes\nProcessing Record 26 of Set 17 | plettenberg bay\nProcessing Record 27 of Set 17 | hofn\nProcessing Record 28 of Set 17 | haverfordwest\nProcessing Record 29 of Set 17 | tromso\nProcessing Record 30 of Set 17 | lata\nProcessing Record 31 of Set 17 | kedrovyy\nProcessing Record 32 of Set 17 | santa cruz\nProcessing Record 33 of Set 17 | kavaratti\nProcessing Record 34 of Set 17 | nome\nProcessing Record 35 of Set 17 | rio grande\nProcessing Record 36 of Set 17 | hanna\nProcessing Record 37 of Set 17 | avera\nProcessing Record 38 of Set 17 | valleyview\nProcessing Record 39 of Set 17 | yumen\nProcessing Record 40 of Set 17 | lima\nProcessing Record 41 of Set 17 | nata\nProcessing Record 42 of Set 17 | icod de los vinos\nProcessing Record 43 of Set 17 | la palma\nProcessing Record 44 of Set 17 | port keats\nProcessing Record 45 of Set 17 | lebu\nProcessing Record 46 of Set 17 | yenagoa\nProcessing Record 47 of Set 17 | comodoro rivadavia\nProcessing Record 48 of Set 17 | upernavik\nProcessing Record 49 of Set 17 | yerbogachen\nProcessing Record 50 of Set 17 | minchinabad\nProcessing Record 1 of Set 18 | port lincoln\nProcessing Record 2 of Set 18 | kodiak\nProcessing Record 3 of Set 18 | cherskiy\nProcessing Record 4 of Set 18 | puerto madryn\nProcessing Record 5 of Set 18 | faanui\nProcessing Record 6 of Set 18 | gizo\nProcessing Record 7 of Set 18 | jamnagar\nProcessing Record 8 of Set 18 | dongsheng\nProcessing Record 9 of Set 18 | bell ville\nProcessing Record 10 of Set 18 | galgani\nProcessing Record 11 of Set 18 | yanan\nProcessing Record 12 of Set 18 | zaysan\nProcessing Record 13 of Set 18 | bethel\nProcessing Record 14 of Set 18 | ust-kut\nProcessing Record 15 of Set 18 | capaci\nProcessing Record 16 of Set 18 | dmytrivka\nProcessing Record 17 of Set 18 | bubaque\nProcessing Record 18 of Set 18 | coihaique\nProcessing Record 19 of Set 18 | ancud\nProcessing Record 20 of Set 18 | mackay\nProcessing Record 21 of Set 18 | chicama\nProcessing Record 22 of Set 18 | mongo\nProcessing Record 23 of Set 18 | sao joao da barra\nProcessing Record 24 of Set 18 | salalah\nProcessing Record 25 of Set 18 | tura\nProcessing Record 26 of Set 18 | imbituba\nProcessing Record 27 of Set 18 | khomutovka\nProcessing Record 28 of Set 18 | rojhan\nProcessing Record 29 of Set 18 | sokoni\nProcessing Record 30 of Set 18 | abu samrah\nProcessing Record 31 of Set 18 | tabou\nProcessing Record 32 of Set 18 | rock sound\nProcessing Record 33 of Set 18 | maarianhamina\nProcessing Record 34 of Set 18 | ayaviri\nProcessing Record 35 of Set 18 | sarangani\nProcessing Record 36 of Set 18 | karauzyak\nProcessing Record 37 of Set 18 | xinan\nProcessing Record 38 of Set 18 | the pas\nProcessing Record 39 of Set 18 | lompoc\nProcessing Record 40 of Set 18 | luganville\nProcessing Record 41 of Set 18 | yuzhno-yeniseyskiy\nProcessing Record 42 of Set 18 | ainazi\nProcessing Record 43 of Set 18 | tuktoyaktuk\nProcessing Record 44 of Set 18 | mbekenyera\nProcessing Record 45 of Set 18 | acari\nProcessing Record 46 of Set 18 | wai\nProcessing Record 47 of Set 18 | de-kastri\nProcessing Record 48 of Set 18 | umba\nProcessing Record 49 of Set 18 | lufkin\nProcessing Record 50 of Set 18 | columbia\nProcessing Record 1 of Set 19 | villarrica\nProcessing Record 2 of Set 19 | koutsouras\nProcessing Record 3 of Set 19 | chernyshevskiy\nProcessing Record 4 of Set 19 | sergeyevka\nProcessing Record 5 of Set 19 | presidencia roque saenz pena\nProcessing Record 6 of Set 19 | kismayo\nProcessing Record 7 of Set 19 | berlevag\nProcessing Record 8 of Set 19 | sisimiut\nProcessing Record 9 of Set 19 | tupik\nProcessing Record 10 of Set 19 | manpur\nProcessing Record 11 of Set 19 | rapid valley\nProcessing Record 12 of Set 19 | basoko\nProcessing Record 13 of Set 19 | ekibastuz\nProcessing Record 14 of Set 19 | broome\nProcessing Record 15 of Set 19 | kayes\nProcessing Record 16 of Set 19 | airai\nProcessing Record 17 of Set 19 | chuy\nProcessing Record 18 of Set 19 | paris\nProcessing Record 19 of Set 19 | bengkulu\nProcessing Record 20 of Set 19 | sarkand\nProcessing Record 21 of Set 19 | ambilobe\nProcessing Record 22 of Set 19 | katsuura\nProcessing Record 23 of Set 19 | vardo\nProcessing Record 24 of Set 19 | rochester\nProcessing Record 25 of Set 19 | morondava\nProcessing Record 26 of Set 19 | basco\nProcessing Record 27 of Set 19 | gurskoye\nProcessing Record 28 of Set 19 | ewa beach\nProcessing Record 29 of Set 19 | borogontsy\nProcessing Record 30 of Set 19 | toungoo\nProcessing Record 31 of Set 19 | cabinda\nProcessing Record 32 of Set 19 | denpasar\nProcessing Record 33 of Set 19 | upington\nProcessing Record 34 of Set 19 | urdzhar\nProcessing Record 35 of Set 19 | poronaysk\nProcessing Record 36 of Set 19 | ahipara\nProcessing Record 37 of Set 19 | bolungarvik\nProcessing Record 38 of Set 19 | kahului\nProcessing Record 39 of Set 19 | salta\nProcessing Record 40 of Set 19 | kilmez\nProcessing Record 41 of Set 19 | rio gallegos\nProcessing Record 42 of Set 19 | te anau\nProcessing Record 43 of Set 19 | luba\nProcessing Record 44 of Set 19 | haapiti\nProcessing Record 45 of Set 19 | necochea\nProcessing Record 46 of Set 19 | sandwick\nProcessing Record 47 of Set 19 | multan\nProcessing Record 48 of Set 19 | caranavi\nProcessing Record 49 of Set 19 | los llanos de aridane\nProcessing Record 50 of Set 19 | el angel\nProcessing Record 1 of Set 20 | lavrentiya\nProcessing Record 2 of Set 20 | tambopata\nProcessing Record 3 of Set 20 | port blair\nProcessing Record 4 of Set 20 | nara\nProcessing Record 5 of Set 20 | neiafu\nProcessing Record 6 of Set 20 | pisco\nProcessing Record 7 of Set 20 | sal rei\nProcessing Record 8 of Set 20 | dosso\nProcessing Record 9 of Set 20 | hithadhoo\nProcessing Record 10 of Set 20 | we\nProcessing Record 11 of Set 20 | sofiyivka\nProcessing Record 12 of Set 20 | newton\nProcessing Record 13 of Set 20 | bonavista\nProcessing Record 14 of Set 20 | xapuri\nProcessing Record 15 of Set 20 | pokosnoye\nProcessing Record 16 of Set 20 | suzun\nProcessing Record 17 of Set 20 | trairi\nProcessing Record 18 of Set 20 | sur\nProcessing Record 19 of Set 20 | esperance\nProcessing Record 20 of Set 20 | badou\nProcessing Record 21 of Set 20 | broken hill\nProcessing Record 22 of Set 20 | dinsor\nProcessing Record 23 of Set 20 | barbar\nProcessing Record 24 of Set 20 | vostok\nProcessing Record 25 of Set 20 | pringsewu\nProcessing Record 26 of Set 20 | ovre ardal\nProcessing Record 27 of Set 20 | monrovia\nProcessing Record 28 of Set 20 | sosnovo-ozerskoye\nProcessing Record 29 of Set 20 | pervomayskoye\nProcessing Record 30 of Set 20 | lagoa\nProcessing Record 31 of Set 20 | gorkovskoye\nProcessing Record 32 of Set 20 | ust-tsilma\nProcessing Record 33 of Set 20 | okha\nProcessing Record 34 of Set 20 | grajewo\nProcessing Record 35 of Set 20 | louisbourg\nProcessing Record 36 of Set 20 | okhotsk\nProcessing Record 37 of Set 20 | wakkanai\nProcessing Record 38 of Set 20 | pauini\nProcessing Record 39 of Set 20 | ugoofaaru\nProcessing Record 40 of Set 20 | wajima\nProcessing Record 41 of Set 20 | coquimbo\nProcessing Record 42 of Set 20 | kamaishi\nProcessing Record 43 of Set 20 | boralday\nProcessing Record 44 of Set 20 | alenquer\nProcessing Record 45 of Set 20 | takoradi\nProcessing Record 46 of Set 20 | beroroha\nProcessing Record 47 of Set 20 | hambantota\nProcessing Record 48 of Set 20 | dalaba\nProcessing Record 49 of Set 20 | marshall\nProcessing Record 50 of Set 20 | chapais\nProcessing Record 1 of Set 21 | bintulu\nProcessing Record 2 of Set 21 | sentyabrskiy\nProcessing Record 3 of Set 21 | yar-sale\nProcessing Record 4 of Set 21 | buraydah\nProcessing Record 5 of Set 21 | praya\nProcessing Record 6 of Set 21 | grand river south east\nProcessing Record 7 of Set 21 | lodja\nProcessing Record 8 of Set 21 | itarema\nProcessing Record 9 of Set 21 | tutoia\nProcessing Record 10 of Set 21 | auki\nProcessing Record 11 of Set 21 | kaberamaido\nProcessing Record 12 of Set 21 | bargal\nProcessing Record 13 of Set 21 | rabo de peixe\nProcessing Record 14 of Set 21 | lethem\nProcessing Record 15 of Set 21 | chaman\nProcessing Record 16 of Set 21 | raga\nProcessing Record 17 of Set 21 | pevek\nProcessing Record 18 of Set 21 | palabuhanratu\nProcessing Record 19 of Set 21 | aksarka\nProcessing Record 20 of Set 21 | bani\nProcessing Record 21 of Set 21 | lagos\nProcessing Record 22 of Set 21 | khandyga\nProcessing Record 23 of Set 21 | caravelas\nProcessing Record 24 of Set 21 | sembe\nProcessing Record 25 of Set 21 | barcelos\nProcessing Record 26 of Set 21 | kutum\nProcessing Record 27 of Set 21 | aksu\nProcessing Record 28 of Set 21 | kruisfontein\nProcessing Record 29 of Set 21 | axim\nProcessing Record 30 of Set 21 | rondonopolis\nProcessing Record 31 of Set 21 | garden city\nProcessing Record 32 of Set 21 | chagda\nProcessing Record 33 of Set 21 | lorengau\nProcessing Record 34 of Set 21 | sovetskiy\nProcessing Record 35 of Set 21 | bitung\nProcessing Record 36 of Set 21 | dunedin\nProcessing Record 37 of Set 21 | fukue\nProcessing Record 38 of Set 21 | huarmey\nProcessing Record 39 of Set 21 | zgierz\nProcessing Record 40 of Set 21 | tahe\nProcessing Record 41 of Set 21 | ustye\nProcessing Record 42 of Set 21 | kyra\nProcessing Record 43 of Set 21 | honningsvag\nProcessing Record 44 of Set 21 | maniitsoq\nProcessing Record 45 of Set 21 | nouadhibou\nProcessing Record 46 of Set 21 | ayagoz\nProcessing Record 47 of Set 21 | najran\nProcessing Record 48 of Set 21 | nyurba\nProcessing Record 49 of Set 21 | mamallapuram\nProcessing Record 50 of Set 21 | tungkang\nProcessing Record 1 of Set 22 | belyy yar\nProcessing Record 2 of Set 22 | boyolangu\nProcessing Record 3 of Set 22 | inta\nProcessing Record 4 of Set 22 | tulun\nProcessing Record 5 of Set 22 | cagayan de tawi-tawi\nProcessing Record 6 of Set 22 | kathu\nProcessing Record 7 of Set 22 | sept-iles\nProcessing Record 8 of Set 22 | qax\nProcessing Record 9 of Set 22 | bandarbeyla\nProcessing Record 10 of Set 22 | kenora\nProcessing Record 11 of Set 22 | mbanza-ngungu\nProcessing Record 12 of Set 22 | korla\nProcessing Record 13 of Set 22 | codrington\nProcessing Record 14 of Set 22 | havoysund\nProcessing Record 15 of Set 22 | acarau\nProcessing Record 16 of Set 22 | sampit\nProcessing Record 17 of Set 22 | asau\nProcessing Record 18 of Set 22 | alcala la real\nProcessing Record 19 of Set 22 | bow island\nProcessing Record 20 of Set 22 | pemberton\nProcessing Record 21 of Set 22 | zachagansk\nProcessing Record 22 of Set 22 | waipawa\nProcessing Record 23 of Set 22 | arraial do cabo\nProcessing Record 24 of Set 22 | hervey bay\nProcessing Record 25 of Set 22 | oyon\nProcessing Record 26 of Set 22 | port macquarie\nProcessing Record 27 of Set 22 | tommot\nProcessing Record 28 of Set 22 | lensk\nProcessing Record 29 of Set 22 | carauari\nProcessing Record 30 of Set 22 | grootfontein\nProcessing Record 31 of Set 22 | douentza\nProcessing Record 32 of Set 22 | toba\nProcessing Record 33 of Set 22 | formoso do araguaia\nProcessing Record 34 of Set 22 | saint-joseph\nProcessing Record 35 of Set 22 | vao\nProcessing Record 36 of Set 22 | hobyo\nProcessing Record 37 of Set 22 | bull savanna\nProcessing Record 38 of Set 22 | vila velha\nProcessing Record 39 of Set 22 | haines junction\nProcessing Record 40 of Set 22 | talnakh\nProcessing Record 41 of Set 22 | paamiut\nProcessing Record 42 of Set 22 | jaslo\nProcessing Record 43 of Set 22 | porto novo\nProcessing Record 44 of Set 22 | kourou\nProcessing Record 45 of Set 22 | talcahuano\nProcessing Record 46 of Set 22 | san juan\nProcessing Record 47 of Set 22 | kaili\nProcessing Record 48 of Set 22 | luancheng\nProcessing Record 49 of Set 22 | ibotirama\nProcessing Record 50 of Set 22 | altamira\nProcessing Record 1 of Set 23 | oranjemund\nProcessing Record 2 of Set 23 | magistralnyy\nProcessing Record 3 of Set 23 | gannan\nProcessing Record 4 of Set 23 | la serena\nProcessing Record 5 of Set 23 | maloshuyka\nProcessing Record 6 of Set 23 | nizhneyansk\nProcessing Record 7 of Set 23 | bulungu\nProcessing Record 8 of Set 23 | viligili\nProcessing Record 9 of Set 23 | toulepleu\nProcessing Record 10 of Set 23 | hutchinson\nProcessing Record 11 of Set 23 | mitu\nProcessing Record 12 of Set 23 | koson\nProcessing Record 13 of Set 23 | yulara\nProcessing Record 14 of Set 23 | wisla\nProcessing Record 15 of Set 23 | umm kaddadah\nProcessing Record 16 of Set 23 | porto nacional\nProcessing Record 17 of Set 23 | geraldton\nProcessing Record 18 of Set 23 | yabrud\nProcessing Record 19 of Set 23 | pacific grove\nProcessing Record 20 of Set 23 | san jeronimo\nProcessing Record 21 of Set 23 | kirkwall\nProcessing Record 22 of Set 23 | northam\nProcessing Record 23 of Set 23 | komsomolskiy\nProcessing Record 24 of Set 23 | sulangan\nProcessing Record 25 of Set 23 | general jose eduvigis diaz\nProcessing Record 26 of Set 23 | dhar\nProcessing Record 27 of Set 23 | malangali\nProcessing Record 28 of Set 23 | konstantinovka\nProcessing Record 29 of Set 23 | mount hagen\nProcessing Record 30 of Set 23 | otradnoye\nProcessing Record 31 of Set 23 | moranbah\nProcessing Record 32 of Set 23 | manaure\nProcessing Record 33 of Set 23 | lucea\nProcessing Record 34 of Set 23 | whyalla\nProcessing Record 35 of Set 23 | kihei\nProcessing Record 36 of Set 23 | togur\nProcessing Record 37 of Set 23 | san carlos\nProcessing Record 38 of Set 23 | richards bay\nProcessing Record 39 of Set 23 | kouango\nProcessing Record 40 of Set 23 | staunton\nProcessing Record 41 of Set 23 | margate\nProcessing Record 42 of Set 23 | andra\nProcessing Record 43 of Set 23 | timaru\nProcessing Record 44 of Set 23 | datong\nProcessing Record 45 of Set 23 | honiara\nProcessing Record 46 of Set 23 | ust-maya\nProcessing Record 47 of Set 23 | marsa matruh\nProcessing Record 48 of Set 23 | santa luzia\nProcessing Record 49 of Set 23 | baymak\nProcessing Record 50 of Set 23 | karasburg\nProcessing Record 1 of Set 24 | ndiekro\nProcessing Record 2 of Set 24 | kirakira\nProcessing Record 3 of Set 24 | tual\nProcessing Record 4 of Set 24 | yining\nProcessing Record 5 of Set 24 | pokhara\nProcessing Record 6 of Set 24 | naustdal\nProcessing Record 7 of Set 24 | mehamn\nProcessing Record 8 of Set 24 | harper\nProcessing Record 9 of Set 24 | tsienyane\nProcessing Record 10 of Set 24 | la rioja\nProcessing Record 11 of Set 24 | dillon\nProcessing Record 12 of Set 24 | roald\nProcessing Record 13 of Set 24 | tema\nProcessing Record 14 of Set 24 | henderson\nProcessing Record 15 of Set 24 | sligo\nProcessing Record 16 of Set 24 | piryion\nProcessing Record 17 of Set 24 | alexandria\nProcessing Record 18 of Set 24 | kovernino\nProcessing Record 19 of Set 24 | kuopio\nProcessing Record 20 of Set 24 | gelemso\nProcessing Record 21 of Set 24 | bahir dar\nProcessing Record 22 of Set 24 | cassilandia\nProcessing Record 23 of Set 24 | san cristobal\nProcessing Record 24 of Set 24 | rorvik\nProcessing Record 25 of Set 24 | aswan\nProcessing Record 26 of Set 24 | san isidro\nProcessing Record 27 of Set 24 | quatre cocos\nProcessing Record 28 of Set 24 | jitauna\nProcessing Record 29 of Set 24 | husavik\nProcessing Record 30 of Set 24 | camabatela\nProcessing Record 31 of Set 24 | saint-augustin\nProcessing Record 32 of Set 24 | gimli\nProcessing Record 33 of Set 24 | nemuro\nProcessing Record 34 of Set 24 | arequipa\nProcessing Record 35 of Set 24 | erenhot\nProcessing Record 36 of Set 24 | solihull\nProcessing Record 37 of Set 24 | seoul\nProcessing Record 38 of Set 24 | becicherecu mic\nProcessing Record 39 of Set 24 | canutama\nProcessing Record 40 of Set 24 | strezhevoy\nProcessing Record 41 of Set 24 | nur\nProcessing Record 42 of Set 24 | embonas\nProcessing Record 43 of Set 24 | kanker\nProcessing Record 44 of Set 24 | puerto escondido\nProcessing Record 45 of Set 24 | lewisporte\nProcessing Record 46 of Set 24 | badgam\nProcessing Record 47 of Set 24 | prieska\nProcessing Record 48 of Set 24 | novobiryusinskiy\nProcessing Record 49 of Set 24 | maceio\nProcessing Record 50 of Set 24 | pangnirtung\nProcessing Record 1 of Set 25 | vengerovo\nProcessing Record 2 of Set 25 | kitimat\nProcessing Record 3 of Set 25 | mogadishu\nProcessing Record 4 of Set 25 | balkanabat\nProcessing Record 5 of Set 25 | outjo\nProcessing Record 6 of Set 25 | kosa\nProcessing Record 7 of Set 25 | mahajanga\nProcessing Record 8 of Set 25 | qingdao\nProcessing Record 9 of Set 25 | westport\n"
    }
   ],
   "source": [
    "# Loop through all the cities in the list.\n",
    "for i, city in enumerate(cities):\n",
    "\n",
    "    # Group cities in sets of 50 for logging purposes.\n",
    "    if (i % 50 == 0 and i >= 50):\n",
    "        set_count += 1\n",
    "        record_count = 1\n",
    "    # Create endpoint URL with each city.\n",
    "    city_url = url + \"&q=\" + city\n",
    "\n",
    "    # Log the URL, record, and set numbers and the city.\n",
    "    print(f\"Processing Record {record_count} of Set {set_count} | {city}\")\n",
    "    # Add 1 to the record count.\n",
    "    record_count += 1"
   ]
  },
  {
   "cell_type": "code",
   "metadata": {},
   "outputs": [],
   "source": []
  }
 ]
}